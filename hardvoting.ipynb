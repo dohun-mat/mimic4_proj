{
 "cells": [
  {
   "cell_type": "markdown",
   "metadata": {},
   "source": [
    "# 하드보팅"
   ]
  },
  {
   "cell_type": "code",
   "execution_count": 170,
   "metadata": {},
   "outputs": [
    {
     "name": "stdout",
     "output_type": "stream",
     "text": [
      "/data/dhk/physionet.org/files/mimiciv/2.2/hosp\n"
     ]
    }
   ],
   "source": [
    "import pandas as pd\n",
    "import numpy as np\n",
    "# from sklearn.model_selection import train_test_split\n",
    "%cd /data/dhk/physionet.org/files/mimiciv/2.2/hosp\n",
    "import cudf\n",
    "from cuml.model_selection import train_test_split"
   ]
  },
  {
   "cell_type": "code",
   "execution_count": 171,
   "metadata": {},
   "outputs": [],
   "source": [
    "df_dh = cudf.read_csv(\"process_dohun.csv\")\n",
    "df_dh = df_dh.drop('subject_id', axis=1)\n",
    "df_dh = df_dh.drop('hadm_id', axis=1)\n",
    "df_dh\n",
    "\n",
    "\n",
    "y = df_dh['hospital_expire_flag'] \n",
    "X = df_dh.drop('hospital_expire_flag', axis=1) # 'label' 열을 제외한 나머지 열을 X로 사용\n"
   ]
  },
  {
   "cell_type": "code",
   "execution_count": 172,
   "metadata": {},
   "outputs": [],
   "source": [
    "X_train, X_test, y_train, y_test = train_test_split(X, y, train_size = 0.8, random_state=42)\n",
    "\n",
    "X_train = X_train.to_cupy()\n",
    "X_test = X_test.to_cupy()\n",
    "y_train = y_train.to_cupy()\n",
    "y_test = y_test.to_cupy()\n",
    "\n",
    "X_train = X_train.astype('float32')\n",
    "y_train = y_train.astype('float32')\n",
    "X_test = X_test.astype('float32')\n",
    "y_test = y_test.astype('float32')"
   ]
  },
  {
   "cell_type": "code",
   "execution_count": 173,
   "metadata": {},
   "outputs": [],
   "source": [
    "model1 = pd.read_csv('xgboost_y_pred.csv',header=None)\n",
    "# model2 = pd.read_csv('randomForest_y_pred.csv', header=None)\n",
    "model3 = pd.read_csv('lightgbm_y_pred.csv',header=None)\n",
    "model4 = pd.read_csv('adaboost_pred.csv',header=None)\n",
    "model5 = pd.read_csv('catboost_y_pred.csv',header=None)\n"
   ]
  },
  {
   "cell_type": "code",
   "execution_count": 174,
   "metadata": {},
   "outputs": [
    {
     "name": "stdout",
     "output_type": "stream",
     "text": [
      "         0    0    0    0\n",
      "0        1  1.0  1.0  1.0\n",
      "1        1  1.0  1.0  1.0\n",
      "2        1  1.0  1.0  1.0\n",
      "3        1  1.0  1.0  1.0\n",
      "4        1  1.0  1.0  1.0\n",
      "...     ..  ...  ...  ...\n",
      "2070055  0  0.0  0.0  0.0\n",
      "2070056  0  0.0  0.0  0.0\n",
      "2070057  0  0.0  0.0  0.0\n",
      "2070058  0  0.0  0.0  0.0\n",
      "2070059  1  1.0  1.0  1.0\n",
      "\n",
      "[2070060 rows x 4 columns]\n",
      "하드 보팅 결과:\n",
      "0          1.0\n",
      "1          1.0\n",
      "2          1.0\n",
      "3          1.0\n",
      "4          1.0\n",
      "          ... \n",
      "2070055    0.0\n",
      "2070056    0.0\n",
      "2070057    0.0\n",
      "2070058    0.0\n",
      "2070059    1.0\n",
      "Name: 0, Length: 2070060, dtype: float64\n"
     ]
    }
   ],
   "source": [
    "combined_predictions = pd.concat([model1, model3, model4, model5], axis=1)\n",
    "print(combined_predictions)\n",
    "# 다수결로 하드 보팅을 수행합니다.\n",
    "hard_voting = combined_predictions.mode(axis=1).iloc[:, 0]\n",
    "\n",
    "\n",
    "# 하드 보팅 결과를 출력합니다.\n",
    "print(\"하드 보팅 결과:\")\n",
    "print(hard_voting)"
   ]
  },
  {
   "cell_type": "code",
   "execution_count": 175,
   "metadata": {},
   "outputs": [
    {
     "name": "stdout",
     "output_type": "stream",
     "text": [
      "[1. 0. 1. ... 0. 0. 1.]\n"
     ]
    }
   ],
   "source": [
    "print(y_test)"
   ]
  },
  {
   "cell_type": "code",
   "execution_count": 176,
   "metadata": {},
   "outputs": [
    {
     "name": "stdout",
     "output_type": "stream",
     "text": [
      "Accuracy: 0.9271161222380028\n",
      "F1 Score: 0.927467840457517\n"
     ]
    }
   ],
   "source": [
    "# import cuml\n",
    "from sklearn.metrics import f1_score\n",
    "from sklearn.metrics import accuracy_score\n",
    "\n",
    "\n",
    "# X_train = X_train.to_cupy()\n",
    "# X_test = X_test.to_cupy()\n",
    "# y_train = y_train.to_cupy()\n",
    "# y_test = y_test.to_cupy()\n",
    "\n",
    "# cu_score = cuml.metrics.accuracy_score(y_test, hard_voting )\n",
    "# print(cu_score)\n",
    "\n",
    "# 정확도 계산\n",
    "accuracy = accuracy_score(y_test.get(), hard_voting)\n",
    "print(\"Accuracy:\", accuracy)\n",
    "\n",
    "# F1 스코어 계산\n",
    "f1 = f1_score(y_test.get(), hard_voting)\n",
    "print(\"F1 Score:\", f1)"
   ]
  },
  {
   "cell_type": "code",
   "execution_count": null,
   "metadata": {},
   "outputs": [],
   "source": []
  }
 ],
 "metadata": {
  "kernelspec": {
   "display_name": "mach",
   "language": "python",
   "name": "mach"
  },
  "language_info": {
   "codemirror_mode": {
    "name": "ipython",
    "version": 3
   },
   "file_extension": ".py",
   "mimetype": "text/x-python",
   "name": "python",
   "nbconvert_exporter": "python",
   "pygments_lexer": "ipython3",
   "version": "3.9.12"
  }
 },
 "nbformat": 4,
 "nbformat_minor": 2
}
